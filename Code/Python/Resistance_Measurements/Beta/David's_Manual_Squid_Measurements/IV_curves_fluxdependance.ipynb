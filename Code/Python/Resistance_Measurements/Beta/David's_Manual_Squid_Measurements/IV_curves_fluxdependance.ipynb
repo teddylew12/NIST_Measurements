{
 "cells": [
  {
   "cell_type": "code",
   "execution_count": 1,
   "metadata": {},
   "outputs": [
    {
     "data": {
      "text/plain": [
       "<module 'IV_curve' from 'D:\\\\DATA\\\\StackJunctions_2018_06_20\\\\notebooks\\\\IV_curve.py'>"
      ]
     },
     "execution_count": 1,
     "metadata": {},
     "output_type": "execute_result"
    }
   ],
   "source": [
    "# If you are loading for the first time you can use this\n",
    "from matplotlib import pyplot\n",
    "%matplotlib inline\n",
    "import IV_curve as iv\n",
    "# If you  modified it you need to reload it \n",
    "import importlib as imp\n",
    "imp.reload(iv)"
   ]
  },
  {
   "cell_type": "code",
   "execution_count": 12,
   "metadata": {},
   "outputs": [
    {
     "name": "stdout",
     "output_type": "stream",
     "text": [
      "0.002\n",
      "Starting sweep up\n",
      "Starting sweep down\n",
      "Exited current sweep\n",
      "Starting sweep up\n",
      "Starting sweep down\n",
      "Exited current sweep\n",
      "Starting sweep up\n",
      "Starting sweep down\n",
      "Exited current sweep\n",
      "Starting sweep up\n",
      "Starting sweep down\n",
      "Exited current sweep\n",
      "Starting sweep up\n",
      "Starting sweep down\n",
      "Exited current sweep\n",
      "Starting sweep up\n",
      "Starting sweep down\n",
      "Exited current sweep\n"
     ]
    }
   ],
   "source": [
    "################################\n",
    "###############################\n",
    "# For IV vs phi curves\n",
    "# sweep_current_flux(I_min, I_max, step,I_minflux, I_maxflux, stepflux, *args):\n",
    "I,V,flux =iv.sweep_current_flux(0,0.2e-3,0.2e-5,6.0e-4,9.0e-4,0.5e-4,True)\n",
    "\n",
    "\n"
   ]
  },
  {
   "cell_type": "code",
   "execution_count": 13,
   "metadata": {},
   "outputs": [
    {
     "data": {
      "text/plain": [
       "[<matplotlib.lines.Line2D at 0x1cd2d0d42e8>,\n",
       " <matplotlib.lines.Line2D at 0x1cd2d0d44e0>,\n",
       " <matplotlib.lines.Line2D at 0x1cd2d0d46d8>,\n",
       " <matplotlib.lines.Line2D at 0x1cd2d0d48d0>,\n",
       " <matplotlib.lines.Line2D at 0x1cd2d0d4ac8>,\n",
       " <matplotlib.lines.Line2D at 0x1cd2d0d4cc0>]"
      ]
     },
     "execution_count": 13,
     "metadata": {},
     "output_type": "execute_result"
    },
    {
     "data": {
      "image/png": "[encoded data removed]",
      "text/plain": [
       "<matplotlib.figure.Figure at 0x1cd2cc9c320>"
      ]
     },
     "metadata": {},
     "output_type": "display_data"
    }
   ],
   "source": [
    "#plot all the curves, to see the data looks OK\n",
    "pyplot.plot(V,I)"
   ]
  },
  {
   "cell_type": "code",
   "execution_count": 12,
   "metadata": {},
   "outputs": [
    {
     "ename": "ValueError",
     "evalue": "could not broadcast input array from shape (160,10) into shape (160)",
     "output_type": "error",
     "traceback": [
      "\u001b[1;31m---------------------------------------------------------------------------\u001b[0m",
      "\u001b[1;31mValueError\u001b[0m                                Traceback (most recent call last)",
      "\u001b[1;32m<ipython-input-12-8e4c9af4b6ef>\u001b[0m in \u001b[0;36m<module>\u001b[1;34m()\u001b[0m\n\u001b[0;32m     11\u001b[0m     \u001b[0mprint\u001b[0m\u001b[1;33m(\u001b[0m\u001b[1;34m'Error, that file already exists'\u001b[0m\u001b[1;33m)\u001b[0m\u001b[1;33m;\u001b[0m\u001b[1;33m\u001b[0m\u001b[0m\n\u001b[0;32m     12\u001b[0m \u001b[1;32melse\u001b[0m\u001b[1;33m:\u001b[0m\u001b[1;33m\u001b[0m\u001b[0m\n\u001b[1;32m---> 13\u001b[1;33m     \u001b[0miv\u001b[0m\u001b[1;33m.\u001b[0m\u001b[0msave_data\u001b[0m\u001b[1;33m(\u001b[0m\u001b[0mI\u001b[0m\u001b[1;33m,\u001b[0m\u001b[0mV\u001b[0m\u001b[1;33m,\u001b[0m\u001b[0mpath\u001b[0m\u001b[1;33m,\u001b[0m\u001b[0mfilename\u001b[0m\u001b[1;33m)\u001b[0m\u001b[1;33m\u001b[0m\u001b[0m\n\u001b[0m\u001b[0;32m     14\u001b[0m     \u001b[0mprint\u001b[0m\u001b[1;33m(\u001b[0m\u001b[1;34m'file saved'\u001b[0m\u001b[1;33m)\u001b[0m\u001b[1;33m\u001b[0m\u001b[0m\n\u001b[0;32m     15\u001b[0m \u001b[1;33m\u001b[0m\u001b[0m\n",
      "\u001b[1;32mD:\\DATA\\StackJunctions_2018_06_20\\notebooks\\IV_curve.py\u001b[0m in \u001b[0;36msave_data\u001b[1;34m(I_values, V_values, pathfromrun, name)\u001b[0m\n\u001b[0;32m    334\u001b[0m     \u001b[0mcolumn\u001b[0m \u001b[1;33m=\u001b[0m \u001b[0mlen\u001b[0m\u001b[1;33m(\u001b[0m\u001b[0mI_values\u001b[0m\u001b[1;33m)\u001b[0m\u001b[1;33m\u001b[0m\u001b[0m\n\u001b[0;32m    335\u001b[0m     \u001b[0mdata\u001b[0m \u001b[1;33m=\u001b[0m \u001b[0mnp\u001b[0m\u001b[1;33m.\u001b[0m\u001b[0mzeros\u001b[0m\u001b[1;33m(\u001b[0m\u001b[1;33m(\u001b[0m\u001b[0mcolumn\u001b[0m\u001b[1;33m,\u001b[0m \u001b[1;36m2\u001b[0m\u001b[1;33m)\u001b[0m\u001b[1;33m)\u001b[0m\u001b[1;33m\u001b[0m\u001b[0m\n\u001b[1;32m--> 336\u001b[1;33m     \u001b[0mdata\u001b[0m\u001b[1;33m[\u001b[0m\u001b[1;33m:\u001b[0m\u001b[1;33m,\u001b[0m\u001b[1;36m0\u001b[0m\u001b[1;33m]\u001b[0m \u001b[1;33m=\u001b[0m \u001b[0mI_values\u001b[0m\u001b[1;33m\u001b[0m\u001b[0m\n\u001b[0m\u001b[0;32m    337\u001b[0m     \u001b[0mdata\u001b[0m\u001b[1;33m[\u001b[0m\u001b[1;33m:\u001b[0m\u001b[1;33m,\u001b[0m\u001b[1;36m1\u001b[0m\u001b[1;33m]\u001b[0m \u001b[1;33m=\u001b[0m \u001b[0mV_values\u001b[0m\u001b[1;33m\u001b[0m\u001b[0m\n\u001b[0;32m    338\u001b[0m     \u001b[0mname\u001b[0m \u001b[1;33m=\u001b[0m \u001b[0mpathfromrun\u001b[0m \u001b[1;33m+\u001b[0m \u001b[0mname\u001b[0m\u001b[1;33m\u001b[0m\u001b[0m\n",
      "\u001b[1;31mValueError\u001b[0m: could not broadcast input array from shape (160,10) into shape (160)"
     ]
    }
   ],
   "source": [
    "##################################\n",
    "#################################\n",
    "#save file\n",
    "# path for the file to be saved\n",
    "path='D:\\DATA\\D-aSi\\\\'\n",
    "filename='IV-fluxdep-up.txt'\n",
    "\n",
    "import os\n",
    "listoffiles=os.listdir(path)\n",
    "if filename in listoffiles:\n",
    "    print('Error, that file already exists');\n",
    "else:\n",
    "    iv.save_data(I,V,path,filename)\n",
    "    print('file saved')\n",
    "        "
   ]
  },
  {
   "cell_type": "code",
   "execution_count": null,
   "metadata": {
    "collapsed": true
   },
   "outputs": [],
   "source": []
  }
 ],
 "metadata": {
  "kernelspec": {
   "display_name": "Python 3",
   "language": "python",
   "name": "python3"
  },
  "language_info": {
   "codemirror_mode": {
    "name": "ipython",
    "version": 3
   },
   "file_extension": ".py",
   "mimetype": "text/x-python",
   "name": "python",
   "nbconvert_exporter": "python",
   "pygments_lexer": "ipython3",
   "version": "3.6.1"
  }
 },
 "nbformat": 4,
 "nbformat_minor": 2
}
