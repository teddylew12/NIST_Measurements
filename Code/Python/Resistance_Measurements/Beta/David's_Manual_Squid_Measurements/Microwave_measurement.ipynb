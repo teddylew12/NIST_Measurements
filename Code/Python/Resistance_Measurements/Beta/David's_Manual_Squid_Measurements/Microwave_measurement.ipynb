{
 "cells": [
  {
   "cell_type": "code",
   "execution_count": 865,
   "metadata": {
    "collapsed": true
   },
   "outputs": [],
   "source": [
    "from matplotlib import pyplot\n",
    "import time\n",
    "import numpy as np\n",
    "%matplotlib inline\n",
    "# If you are loading for the first time you can use this\n",
    "import FluxDependance_Resonator as fd\n",
    "import Visa_Functions as vf\n",
    "import IV_curve as iv\n",
    "# If you  modified it you need to reload it \n",
    "import importlib as imp\n",
    "imp.reload(iv)\n",
    "imp.reload(fd)\n",
    "NWA=vf.get_NWA(30)"
   ]
  },
  {
   "cell_type": "code",
   "execution_count": 843,
   "metadata": {},
   "outputs": [
    {
     "name": "stdout",
     "output_type": "stream",
     "text": [
      "0\n",
      "CH1_S21_2\n"
     ]
    }
   ],
   "source": [
    "################################# get the trace from the NWA \n",
    "[f,S]=vf.get_traces(NWA,1)\n"
   ]
  },
  {
   "cell_type": "code",
   "execution_count": 844,
   "metadata": {
    "scrolled": true
   },
   "outputs": [
    {
     "data": {
      "text/plain": [
       "[<matplotlib.lines.Line2D at 0x28a999d93c8>]"
      ]
     },
     "execution_count": 844,
     "metadata": {},
     "output_type": "execute_result"
    },
    {
     "data": {
      "image/png": "[encoded data removed]",
      "text/plain": [
       "<matplotlib.figure.Figure at 0x28a998db8d0>"
      ]
     },
     "metadata": {},
     "output_type": "display_data"
    }
   ],
   "source": [
    "#plot all the curves, to see the data looks OK\n",
    "pyplot.plot(f[0],S[0])"
   ]
  },
  {
   "cell_type": "code",
   "execution_count": 841,
   "metadata": {},
   "outputs": [
    {
     "name": "stdout",
     "output_type": "stream",
     "text": [
      "D:\\DATA\\D180628-Res2\\chip23_Stack-JJ\\Resonator1\\R1_900uAflux.txt\n",
      "file saved\n"
     ]
    }
   ],
   "source": [
    "###################################save file\n",
    "# path for the file to be saved\n",
    "path='D:\\DATA\\D180628-Res2\\chip23_Stack-JJ\\Resonator1\\\\'\n",
    "filename='R1_900uAflux.txt'\n",
    "\n",
    "import os\n",
    "listoffiles=os.listdir(path)\n",
    "if filename in listoffiles:\n",
    "    print('Error, that file already exists');\n",
    "else:\n",
    "    vf.save_data_NWA(f,S,path,filename)\n",
    "    print('file saved')\n",
    "        "
   ]
  },
  {
   "cell_type": "code",
   "execution_count": 877,
   "metadata": {},
   "outputs": [
    {
     "name": "stdout",
     "output_type": "stream",
     "text": [
      "0\n",
      "CH1_S21_2\n",
      "D:\\DATA\\D180628-Res2\\chip35_St-St\\Resonator6\\R6_0uAflux.txt\n",
      "0\n",
      "CH1_S21_2\n",
      "D:\\DATA\\D180628-Res2\\chip35_St-St\\Resonator6\\R6_50uAflux.txt\n",
      "0\n",
      "CH1_S21_2\n",
      "D:\\DATA\\D180628-Res2\\chip35_St-St\\Resonator6\\R6_100uAflux.txt\n",
      "0\n",
      "CH1_S21_2\n",
      "D:\\DATA\\D180628-Res2\\chip35_St-St\\Resonator6\\R6_150uAflux.txt\n",
      "0\n",
      "CH1_S21_2\n",
      "D:\\DATA\\D180628-Res2\\chip35_St-St\\Resonator6\\R6_200uAflux.txt\n",
      "0\n",
      "CH1_S21_2\n",
      "D:\\DATA\\D180628-Res2\\chip35_St-St\\Resonator6\\R6_250uAflux.txt\n",
      "0\n",
      "CH1_S21_2\n",
      "D:\\DATA\\D180628-Res2\\chip35_St-St\\Resonator6\\R6_300uAflux.txt\n",
      "0\n",
      "CH1_S21_2\n",
      "D:\\DATA\\D180628-Res2\\chip35_St-St\\Resonator6\\R6_350uAflux.txt\n",
      "0\n",
      "CH1_S21_2\n",
      "D:\\DATA\\D180628-Res2\\chip35_St-St\\Resonator6\\R6_400uAflux.txt\n",
      "0\n",
      "CH1_S21_2\n",
      "D:\\DATA\\D180628-Res2\\chip35_St-St\\Resonator6\\R6_450uAflux.txt\n",
      "0\n",
      "CH1_S21_2\n",
      "D:\\DATA\\D180628-Res2\\chip35_St-St\\Resonator6\\R6_500uAflux.txt\n",
      "0\n",
      "CH1_S21_2\n",
      "D:\\DATA\\D180628-Res2\\chip35_St-St\\Resonator6\\R6_550uAflux.txt\n",
      "0\n",
      "CH1_S21_2\n",
      "D:\\DATA\\D180628-Res2\\chip35_St-St\\Resonator6\\R6_600uAflux.txt\n",
      "0\n",
      "CH1_S21_2\n",
      "D:\\DATA\\D180628-Res2\\chip35_St-St\\Resonator6\\R6_650uAflux.txt\n",
      "0\n",
      "CH1_S21_2\n",
      "D:\\DATA\\D180628-Res2\\chip35_St-St\\Resonator6\\R6_700uAflux.txt\n",
      "0\n",
      "CH1_S21_2\n",
      "D:\\DATA\\D180628-Res2\\chip35_St-St\\Resonator6\\R6_750uAflux.txt\n",
      "0\n",
      "CH1_S21_2\n",
      "D:\\DATA\\D180628-Res2\\chip35_St-St\\Resonator6\\R6_800uAflux.txt\n",
      "0\n",
      "CH1_S21_2\n",
      "D:\\DATA\\D180628-Res2\\chip35_St-St\\Resonator6\\R6_850uAflux.txt\n",
      "0\n",
      "CH1_S21_2\n",
      "D:\\DATA\\D180628-Res2\\chip35_St-St\\Resonator6\\R6_900uAflux.txt\n",
      "0\n",
      "CH1_S21_2\n",
      "D:\\DATA\\D180628-Res2\\chip35_St-St\\Resonator6\\R6_950uAflux.txt\n",
      "0\n",
      "CH1_S21_2\n",
      "D:\\DATA\\D180628-Res2\\chip35_St-St\\Resonator6\\R6_1000uAflux.txt\n",
      "0\n",
      "CH1_S21_2\n",
      "D:\\DATA\\D180628-Res2\\chip35_St-St\\Resonator6\\R6_1050uAflux.txt\n",
      "0\n",
      "CH1_S21_2\n",
      "D:\\DATA\\D180628-Res2\\chip35_St-St\\Resonator6\\R6_1100uAflux.txt\n",
      "0\n",
      "CH1_S21_2\n",
      "D:\\DATA\\D180628-Res2\\chip35_St-St\\Resonator6\\R6_1150uAflux.txt\n",
      "0\n",
      "CH1_S21_2\n",
      "D:\\DATA\\D180628-Res2\\chip35_St-St\\Resonator6\\R6_1200uAflux.txt\n"
     ]
    }
   ],
   "source": [
    "#Values of flux current and range in microAmps\n",
    "for IfluxuA in np.arange(0, 1250, 50):\n",
    "    iv.setFluxCurrent(IfluxuA)\n",
    "    time.sleep(3)\n",
    "    [f,S]=vf.get_traces(NWA,1)\n",
    "    #pyplot.plot(f[0],S[0])\n",
    "    \n",
    "    path='D:\\DATA\\D180628-Res2\\chip35_St-St\\Resonator6\\\\'\n",
    "    filename='R6_'+str(IfluxuA)+'uAflux.txt'\n",
    "\n",
    "    import os\n",
    "    listoffiles=os.listdir(path)\n",
    "    if filename in listoffiles:\n",
    "        print('Error, that file already exists');\n",
    "    else:\n",
    "        vf.save_data_NWA(f,S,path,filename)\n",
    "       # print('file saved')"
   ]
  },
  {
   "cell_type": "code",
   "execution_count": null,
   "metadata": {
    "collapsed": true
   },
   "outputs": [],
   "source": []
  }
 ],
 "metadata": {
  "kernelspec": {
   "display_name": "Python 3",
   "language": "python",
   "name": "python3"
  },
  "language_info": {
   "codemirror_mode": {
    "name": "ipython",
    "version": 3
   },
   "file_extension": ".py",
   "mimetype": "text/x-python",
   "name": "python",
   "nbconvert_exporter": "python",
   "pygments_lexer": "ipython3",
   "version": "3.6.1"
  }
 },
 "nbformat": 4,
 "nbformat_minor": 2
}
