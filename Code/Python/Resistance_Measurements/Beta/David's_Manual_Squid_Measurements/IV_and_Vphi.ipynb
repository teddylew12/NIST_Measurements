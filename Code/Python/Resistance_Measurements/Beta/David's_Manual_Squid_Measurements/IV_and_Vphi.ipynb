{
 "cells": [
  {
   "cell_type": "code",
   "execution_count": 26,
   "metadata": {
    "scrolled": false
   },
   "outputs": [
    {
     "data": {
      "text/plain": [
       "<module 'IV_curve' from 'D:\\\\DATA\\\\StackJunctions_2018_06_20\\\\notebooks\\\\IV_curve.py'>"
      ]
     },
     "execution_count": 26,
     "metadata": {},
     "output_type": "execute_result"
    }
   ],
   "source": [
    "# If you are loading for the first time you can use this\n",
    "from matplotlib import pyplot\n",
    "import numpy as np\n",
    "#%matplotlib inline\n",
    "import IV_curve as iv\n",
    "# If you  modified it you need to reload it \n",
    "import importlib as imp\n",
    "imp.reload(iv)"
   ]
  },
  {
   "cell_type": "code",
   "execution_count": 22,
   "metadata": {
    "scrolled": false
   },
   "outputs": [
    {
     "name": "stdout",
     "output_type": "stream",
     "text": [
      "0.002\n",
      "Starting sweep up\n",
      "Starting sweep down\n",
      "Exited current sweep\n"
     ]
    }
   ],
   "source": [
    "### For IV curves    #sweep_current(I_min, I_max, step, *args)\n",
    "[I,V]=iv.sweep_current(-200e-6,200e-6,10e-6,True)\n"
   ]
  },
  {
   "cell_type": "code",
   "execution_count": 29,
   "metadata": {
    "scrolled": true
   },
   "outputs": [
    {
     "data": {
      "text/plain": [
       "[<matplotlib.lines.Line2D at 0x20fb53a69e8>]"
      ]
     },
     "execution_count": 29,
     "metadata": {},
     "output_type": "execute_result"
    },
    {
     "data": {
      "image/png": "[encoded data removed]",
      "text/plain": [
       "<matplotlib.figure.Figure at 0x20fb531f400>"
      ]
     },
     "metadata": {},
     "output_type": "display_data"
    }
   ],
   "source": [
    "#plot IV\n",
    "pyplot.plot(V,I)\n"
   ]
  },
  {
   "cell_type": "code",
   "execution_count": 27,
   "metadata": {
    "scrolled": false
   },
   "outputs": [
    {
     "name": "stdout",
     "output_type": "stream",
     "text": [
      "False\n",
      "Starting sweep up\n",
      "Exited current sweep\n"
     ]
    }
   ],
   "source": [
    "##For VvsPhi curves   #sweep_current_vphi(I_minflux, I_maxflux, step, Ibias, *args):\n",
    "I,V=iv.sweep_current_vphi(-8e-3,8e-3,40e-6,100e-6,False)"
   ]
  },
  {
   "cell_type": "code",
   "execution_count": 58,
   "metadata": {},
   "outputs": [
    {
     "name": "stdout",
     "output_type": "stream",
     "text": [
      "file saved\n"
     ]
    }
   ],
   "source": [
    "##save file  # path for the file to be saved\n",
    "path='D:\\DATA\\D190507-aSi\\SQUIDA6A7\\\\'\n",
    "filename='VPhiat80.txt'\n",
    "\n",
    "import os\n",
    "listoffiles=os.listdir(path)\n",
    "if filename in listoffiles:\n",
    "    print('Error, that file already exists');\n",
    "else:\n",
    "    iv.save_data(I,V,path,filename)\n",
    "    print('file saved')\n"
   ]
  },
  {
   "cell_type": "code",
   "execution_count": 55,
   "metadata": {
    "scrolled": true
   },
   "outputs": [
    {
     "name": "stdout",
     "output_type": "stream",
     "text": [
      "0.002\n",
      "Starting sweep up\n",
      "Starting sweep down\n",
      "Exited current sweep\n",
      "0.002\n",
      "Starting sweep up\n",
      "Starting sweep down\n",
      "Exited current sweep\n",
      "0.002\n",
      "Starting sweep up\n",
      "Starting sweep down\n",
      "Exited current sweep\n",
      "0.002\n",
      "Starting sweep up\n",
      "Starting sweep down\n",
      "Exited current sweep\n",
      "0.002\n",
      "Starting sweep up\n",
      "Starting sweep down\n",
      "Exited current sweep\n",
      "0.002\n",
      "Starting sweep up\n",
      "Starting sweep down\n",
      "Exited current sweep\n",
      "0.002\n",
      "Starting sweep up\n",
      "Starting sweep down\n",
      "Exited current sweep\n",
      "0.002\n",
      "Starting sweep up\n",
      "Starting sweep down\n",
      "Exited current sweep\n",
      "0.002\n",
      "Starting sweep up\n",
      "Starting sweep down\n",
      "Exited current sweep\n",
      "0.002\n",
      "Starting sweep up\n",
      "Starting sweep down\n",
      "Exited current sweep\n",
      "0.002\n",
      "Starting sweep up\n",
      "Starting sweep down\n",
      "Exited current sweep\n",
      "0.002\n",
      "Starting sweep up\n",
      "Starting sweep down\n",
      "Exited current sweep\n"
     ]
    }
   ],
   "source": [
    "for IfluxuA in np.arange(0, 5550, 500):\n",
    "    iv.setFluxCurrent(IfluxuA)\n",
    "    [I,V]=iv.sweep_current(-200e-6,200e-6,10e-6,True)\n",
    "    path='D:\\DATA\\D190507-aSi\\SQUIDA6A7\\VIs\\\\'\n",
    "    filename='SQ_VI_'+str(IfluxuA)+'uAflux.txt'\n",
    "\n",
    "    import os\n",
    "    listoffiles=os.listdir(path)\n",
    "    if filename in listoffiles:\n",
    "        print('Error, that file already exists');\n",
    "    else:\n",
    "        iv.save_data(I,V,path,filename)\n",
    "       # print('file saved')"
   ]
  },
  {
   "cell_type": "code",
   "execution_count": null,
   "metadata": {
    "collapsed": true
   },
   "outputs": [],
   "source": []
  }
 ],
 "metadata": {
  "kernelspec": {
   "display_name": "Python 3",
   "language": "python",
   "name": "python3"
  },
  "language_info": {
   "codemirror_mode": {
    "name": "ipython",
    "version": 3
   },
   "file_extension": ".py",
   "mimetype": "text/x-python",
   "name": "python",
   "nbconvert_exporter": "python",
   "pygments_lexer": "ipython3",
   "version": "3.6.1"
  }
 },
 "nbformat": 4,
 "nbformat_minor": 2
}
