{
 "cells": [
  {
   "cell_type": "code",
   "execution_count": 8,
   "metadata": {},
   "outputs": [],
   "source": [
    "from matplotlib import pyplot\n",
    "%matplotlib inline\n",
    "# If you are loading for the first time you can use this\n",
    "import FluxDependance_Resonator as fd\n",
    "import Visa_Functions as vf\n",
    "import IV_curve as iv\n",
    "# If you  modified it you need to reload it \n",
    "import importlib as imp\n",
    "imp.reload(iv)\n",
    "imp.reload(fd)\n",
    "NWA=vf.get_NWA(30)"
   ]
  },
  {
   "cell_type": "code",
   "execution_count": 9,
   "metadata": {},
   "outputs": [
    {
     "name": "stdout",
     "output_type": "stream",
     "text": [
      "0\n",
      "CH1_S11_1\n"
     ]
    }
   ],
   "source": [
    "################################\n",
    "###############################\n",
    "# get the trace from the NWA \n",
    "[f,S]=vf.get_traces(NWA,1)\n"
   ]
  },
  {
   "cell_type": "code",
   "execution_count": 10,
   "metadata": {},
   "outputs": [
    {
     "data": {
      "text/plain": [
       "[<matplotlib.lines.Line2D at 0x20117500550>]"
      ]
     },
     "execution_count": 10,
     "metadata": {},
     "output_type": "execute_result"
    },
    {
     "data": {
      "image/png": "[encoded data removed]",
      "text/plain": [
       "<matplotlib.figure.Figure at 0x201164e44e0>"
      ]
     },
     "metadata": {},
     "output_type": "display_data"
    }
   ],
   "source": [
    "#plot all the curves, to see the data looks OK\n",
    "pyplot.plot(f[0],S[0])"
   ]
  },
  {
   "cell_type": "code",
   "execution_count": 11,
   "metadata": {},
   "outputs": [
    {
     "name": "stdout",
     "output_type": "stream",
     "text": [
      "Error, that file already exists\n"
     ]
    }
   ],
   "source": [
    "##################################\n",
    "#################################\n",
    "#save file\n",
    "# path for the file to be saved\n",
    "path='D:\\DATA\\StackJunctions_2018_06_20\\\\'\n",
    "filename='test.txt'\n",
    "\n",
    "import os\n",
    "listoffiles=os.listdir(path)\n",
    "if filename in listoffiles:\n",
    "    print('Error, that file already exists');\n",
    "else:\n",
    "    vf.save_data_NWA(f,S,path,'test.txt')\n",
    "    print('file saved')\n",
    "        "
   ]
  },
  {
   "cell_type": "code",
   "execution_count": null,
   "metadata": {
    "collapsed": true
   },
   "outputs": [],
   "source": []
  }
 ],
 "metadata": {
  "kernelspec": {
   "display_name": "Python 3",
   "language": "python",
   "name": "python3"
  },
  "language_info": {
   "codemirror_mode": {
    "name": "ipython",
    "version": 3
   },
   "file_extension": ".py",
   "mimetype": "text/x-python",
   "name": "python",
   "nbconvert_exporter": "python",
   "pygments_lexer": "ipython3",
   "version": "3.6.1"
  }
 },
 "nbformat": 4,
 "nbformat_minor": 2
}
